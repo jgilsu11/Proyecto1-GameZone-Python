{
 "cells": [
  {
   "cell_type": "code",
   "execution_count": 2,
   "metadata": {},
   "outputs": [],
   "source": [
    "#Experimentar ahorcado\n",
    "import random"
   ]
  },
  {
   "cell_type": "markdown",
   "metadata": {},
   "source": [
    "***LISTA DE PALABRAS***"
   ]
  },
  {
   "cell_type": "code",
   "execution_count": 3,
   "metadata": {},
   "outputs": [],
   "source": [
    "palabras_ahorcado = [\n",
    "    \"gato\", \"perro\", \"casa\", \"sol\", \"luna\", \"arbol\", \"flor\", \"mar\", \"rio\", \"pez\",\n",
    "    \"nube\", \"cielo\", \"mesa\", \"silla\", \"libro\", \"lapiz\", \"papel\", \"coche\", \"tren\", \"avion\",\n",
    "    \"barco\", \"playa\", \"camion\", \"bosque\", \"campo\", \"ciudad\", \"calle\", \"puente\", \"parque\", \"jardin\",\n",
    "    \"escuela\", \"maestro\", \"alumno\", \"amigo\", \"familia\", \"comida\", \"fruta\", \"verdura\", \"musica\", \"cancion\",\"puerta\"\n",
    "]\n"
   ]
  },
  {
   "cell_type": "markdown",
   "metadata": {},
   "source": [
    "***Clase Ahorcado***"
   ]
  },
  {
   "cell_type": "code",
   "execution_count": 5,
   "metadata": {},
   "outputs": [],
   "source": [
    "class Ahorcado:\n",
    "    def __init__(self):\n",
    "\n",
    "        self.palabras_ahorcado\n",
    "    \n",
    "    def seleccionar_palabra(self,):\n",
    "        pass\n",
    "     "
   ]
  },
  {
   "cell_type": "markdown",
   "metadata": {},
   "source": [
    "***Selecciona palabra aleatoria***"
   ]
  },
  {
   "cell_type": "code",
   "execution_count": 21,
   "metadata": {},
   "outputs": [
    {
     "data": {
      "text/plain": [
       "'lapiz'"
      ]
     },
     "execution_count": 21,
     "metadata": {},
     "output_type": "execute_result"
    }
   ],
   "source": [
    "palabra_aleatoria= palabras_ahorcado[random.randint(0,len(palabras_ahorcado))]\n",
    "palabra_aleatoria\n",
    "#Done"
   ]
  },
  {
   "cell_type": "markdown",
   "metadata": {},
   "source": [
    "***Palabra oculta***"
   ]
  },
  {
   "cell_type": "code",
   "execution_count": 25,
   "metadata": {},
   "outputs": [
    {
     "data": {
      "text/plain": [
       "' _  _  _  _  _ '"
      ]
     },
     "execution_count": 25,
     "metadata": {},
     "output_type": "execute_result"
    }
   ],
   "source": [
    "palabra_oculta= \" _ \" * len(palabra_aleatoria)\n",
    "palabra_oculta"
   ]
  },
  {
   "cell_type": "markdown",
   "metadata": {},
   "source": []
  }
 ],
 "metadata": {
  "kernelspec": {
   "display_name": "Python 3",
   "language": "python",
   "name": "python3"
  },
  "language_info": {
   "codemirror_mode": {
    "name": "ipython",
    "version": 3
   },
   "file_extension": ".py",
   "mimetype": "text/x-python",
   "name": "python",
   "nbconvert_exporter": "python",
   "pygments_lexer": "ipython3",
   "version": "3.11.9"
  }
 },
 "nbformat": 4,
 "nbformat_minor": 2
}
