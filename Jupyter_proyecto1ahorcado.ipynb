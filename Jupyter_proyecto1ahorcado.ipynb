{
 "cells": [
  {
   "cell_type": "code",
   "execution_count": 2,
   "metadata": {},
   "outputs": [],
   "source": [
    "#Experimentar ahorcado\n",
    "import random"
   ]
  },
  {
   "cell_type": "markdown",
   "metadata": {},
   "source": [
    "***LISTA DE PALABRAS***"
   ]
  },
  {
   "cell_type": "code",
   "execution_count": 3,
   "metadata": {},
   "outputs": [],
   "source": [
    "palabras_ahorcado = [\n",
    "    \"gato\", \"perro\", \"casa\", \"sol\", \"luna\", \"arbol\", \"flor\", \"mar\", \"rio\", \"pez\",\n",
    "    \"nube\", \"cielo\", \"mesa\", \"silla\", \"libro\", \"lapiz\", \"papel\", \"coche\", \"tren\", \"avion\",\n",
    "    \"barco\", \"playa\", \"camion\", \"bosque\", \"campo\", \"ciudad\", \"calle\", \"puente\", \"parque\", \"jardin\",\n",
    "    \"escuela\", \"maestro\", \"alumno\", \"amigo\", \"familia\", \"comida\", \"fruta\", \"verdura\", \"musica\", \"cancion\",\"puerta\"\n",
    "]\n"
   ]
  },
  {
   "cell_type": "markdown",
   "metadata": {},
   "source": [
    "***Clase Ahorcado***"
   ]
  },
  {
   "cell_type": "code",
   "execution_count": 5,
   "metadata": {},
   "outputs": [],
   "source": [
    "class Ahorcado:\n",
    "    def __init__(self):\n",
    "\n",
    "        self.palabras_ahorcado\n",
    "    \n",
    "    def seleccionar_palabra(self,):\n",
    "        pass\n",
    "     "
   ]
  },
  {
   "cell_type": "markdown",
   "metadata": {},
   "source": [
    "***Selecciona palabra aleatoria***"
   ]
  },
  {
   "cell_type": "code",
   "execution_count": 42,
   "metadata": {},
   "outputs": [
    {
     "data": {
      "text/plain": [
       "'escuela'"
      ]
     },
     "execution_count": 42,
     "metadata": {},
     "output_type": "execute_result"
    }
   ],
   "source": [
    "#también se podría usar .randint que es lo que me salió al principio pero es más simple esta opción\n",
    "def obtener_palabra_aleatoria(lista_palabras):\n",
    "\n",
    "    palabra_aleatoria= random.choice(lista_palabras) #.self habría que añadir creo cuando haga clases\n",
    "    return palabra_aleatoria\n",
    "obtener_palabra_aleatoria(palabras_ahorcado)  #De la lista de palabras elige una palabra (string)\n"
   ]
  },
  {
   "cell_type": "markdown",
   "metadata": {},
   "source": [
    "***def mostrar tablero***"
   ]
  },
  {
   "cell_type": "code",
   "execution_count": 52,
   "metadata": {},
   "outputs": [],
   "source": [
    "def mostrar_tablero(palabra_secreta, letras_guessed):\n",
    "    for letra in obtener_palabra_aleatoria(palabras_ahorcado):\n",
    "        tablero= \"\"\n",
    "        if letra in letras_guessed:\n",
    "        \n",
    "            tablero+= letra\n",
    "        else:\n",
    "            tablero+= \" _ \"\n",
    "    print(tablero)"
   ]
  },
  {
   "cell_type": "markdown",
   "metadata": {},
   "source": [
    "***def jugar***"
   ]
  },
  {
   "cell_type": "code",
   "execution_count": 60,
   "metadata": {},
   "outputs": [],
   "source": [
    "def jugar_ahorcado():\n",
    "    palabra_oculta= obtener_palabra_aleatoria()\n",
    "    letras_adivinadas= []\n",
    "    intentos_restantes= 6 \n",
    "    while intentos_restantes > 0:\n",
    "        mostrar_tablero(palabra_oculta, letras_adivinadas)\n",
    "        letra_usuario= str(input(\"Escribe tu siguiente letra: \")).lower().strip()\n",
    "        if letra_usuario in letras_adivinadas:\n",
    "            print(\"Esta letra ya la has usado, prueba con otra\")\n",
    "            continue\n",
    "        elif letra_usuario in palabra_oculta: #palabra oculta ya es un string y con el in ya sirve no hace falta split \n",
    "            letras_adivinadas.append(letra_usuario)\n",
    "            if set(letras_adivinadas) == set(palabra_oculta):  #Utilizamos set porque así se eliminan duplicados\n",
    "                print(\"¡¡Felicidades has adivinado la palabra!!\")\n",
    "                break\n",
    "        else:\n",
    "            intentos_restantes -= 1\n",
    "            print(f\"Lo siento, esa letra no está en la palabra, prueba otra vez que te quedan {intentos_restantes} intentos\")\n",
    "    if intentos_restantes == 0:\n",
    "        print(f\"Lo lamento no has conseguido adivinar la palabra. La palabra era {palabra_oculta}\")\n",
    "    "
   ]
  },
  {
   "cell_type": "markdown",
   "metadata": {},
   "source": [
    "**Comprobación de que no se necesita el split**"
   ]
  },
  {
   "cell_type": "code",
   "execution_count": 59,
   "metadata": {},
   "outputs": [
    {
     "data": {
      "text/plain": [
       "'puente'"
      ]
     },
     "execution_count": 59,
     "metadata": {},
     "output_type": "execute_result"
    }
   ],
   "source": [
    "\n",
    "obtener_palabra_aleatoria(palabras_ahorcado)\n",
    "palabra_oculta= obtener_palabra_aleatoria(palabras_ahorcado)\n",
    "palabra_oculta"
   ]
  }
 ],
 "metadata": {
  "kernelspec": {
   "display_name": "Python 3",
   "language": "python",
   "name": "python3"
  },
  "language_info": {
   "codemirror_mode": {
    "name": "ipython",
    "version": 3
   },
   "file_extension": ".py",
   "mimetype": "text/x-python",
   "name": "python",
   "nbconvert_exporter": "python",
   "pygments_lexer": "ipython3",
   "version": "3.11.9"
  }
 },
 "nbformat": 4,
 "nbformat_minor": 2
}
