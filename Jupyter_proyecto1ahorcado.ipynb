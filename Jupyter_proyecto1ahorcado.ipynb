{
 "cells": [
  {
   "cell_type": "code",
   "execution_count": 2,
   "metadata": {},
   "outputs": [],
   "source": [
    "#Experimentar ahorcado\n",
    "import random"
   ]
  },
  {
   "cell_type": "markdown",
   "metadata": {},
   "source": [
    "***LISTA DE PALABRAS***"
   ]
  },
  {
   "cell_type": "code",
   "execution_count": 3,
   "metadata": {},
   "outputs": [],
   "source": [
    "palabras_ahorcado = [\n",
    "    \"gato\", \"perro\", \"casa\", \"sol\", \"luna\", \"arbol\", \"flor\", \"mar\", \"rio\", \"pez\",\n",
    "    \"nube\", \"cielo\", \"mesa\", \"silla\", \"libro\", \"lapiz\", \"papel\", \"coche\", \"tren\", \"avion\",\n",
    "    \"barco\", \"playa\", \"camion\", \"bosque\", \"campo\", \"ciudad\", \"calle\", \"puente\", \"parque\", \"jardin\",\n",
    "    \"escuela\", \"maestro\", \"alumno\", \"amigo\", \"familia\", \"comida\", \"fruta\", \"verdura\", \"musica\", \"cancion\",\"puerta\"\n",
    "]\n"
   ]
  },
  {
   "cell_type": "markdown",
   "metadata": {},
   "source": [
    "***Clase Ahorcado***"
   ]
  },
  {
   "cell_type": "code",
   "execution_count": 5,
   "metadata": {},
   "outputs": [],
   "source": [
    "class Ahorcado:\n",
    "    def __init__(self):\n",
    "\n",
    "        self.palabras_ahorcado\n",
    "    \n",
    "    def seleccionar_palabra(self,):\n",
    "        pass\n",
    "     "
   ]
  },
  {
   "cell_type": "markdown",
   "metadata": {},
   "source": [
    "***Selecciona palabra aleatoria***"
   ]
  },
  {
   "cell_type": "code",
   "execution_count": 42,
   "metadata": {},
   "outputs": [
    {
     "data": {
      "text/plain": [
       "'escuela'"
      ]
     },
     "execution_count": 42,
     "metadata": {},
     "output_type": "execute_result"
    }
   ],
   "source": [
    "#también se podría usar .randint que es lo que me salió al principio pero es más simple esta opción\n",
    "def obtener_palabra_aleatoria(lista_palabras):\n",
    "\n",
    "    palabra_aleatoria= random.choice(lista_palabras) #.self habría que añadir creo cuando haga clases\n",
    "    return palabra_aleatoria\n",
    "obtener_palabra_aleatoria(palabras_ahorcado)\n"
   ]
  },
  {
   "cell_type": "markdown",
   "metadata": {},
   "source": [
    "***Palabra oculta***"
   ]
  },
  {
   "cell_type": "code",
   "execution_count": 44,
   "metadata": {},
   "outputs": [
    {
     "ename": "TypeError",
     "evalue": "obtener_palabra_aleatoria() missing 1 required positional argument: 'lista_palabras'",
     "output_type": "error",
     "traceback": [
      "\u001b[1;31m---------------------------------------------------------------------------\u001b[0m",
      "\u001b[1;31mTypeError\u001b[0m                                 Traceback (most recent call last)",
      "Cell \u001b[1;32mIn[44], line 1\u001b[0m\n\u001b[1;32m----> 1\u001b[0m palabra_oculta\u001b[38;5;241m=\u001b[39m \u001b[38;5;124m\"\u001b[39m\u001b[38;5;124m _ \u001b[39m\u001b[38;5;124m\"\u001b[39m \u001b[38;5;241m*\u001b[39m \u001b[38;5;28mlen\u001b[39m(\u001b[43mobtener_palabra_aleatoria\u001b[49m\u001b[43m(\u001b[49m\u001b[43m)\u001b[49m)\n\u001b[0;32m      2\u001b[0m palabra_oculta \u001b[38;5;66;03m#se tendrá que printear\u001b[39;00m\n\u001b[0;32m      3\u001b[0m \u001b[38;5;66;03m#Done\u001b[39;00m\n",
      "\u001b[1;31mTypeError\u001b[0m: obtener_palabra_aleatoria() missing 1 required positional argument: 'lista_palabras'"
     ]
    }
   ],
   "source": [
    "palabra_oculta= \" _ \" * len(obtener_palabra_aleatoria(palabras_ahorcado))\n",
    "palabra_oculta #se tendrá que printear\n",
    "#Done"
   ]
  },
  {
   "cell_type": "markdown",
   "metadata": {},
   "source": []
  },
  {
   "cell_type": "code",
   "execution_count": 52,
   "metadata": {},
   "outputs": [],
   "source": [
    "def mostrar_tablero(palabra_secreta, letras_guessed):\n",
    "    for letra in obtener_palabra_aleatoria(palabras_ahorcado):\n",
    "        tablero= \"\"\n",
    "        if letra in letras_guessed:\n",
    "        \n",
    "            tablero+= letra\n",
    "        else:\n",
    "            tablero+= \" _ \"\n",
    "    print(tablero)"
   ]
  },
  {
   "cell_type": "markdown",
   "metadata": {},
   "source": [
    "***def jugar***"
   ]
  },
  {
   "cell_type": "code",
   "execution_count": 51,
   "metadata": {},
   "outputs": [],
   "source": [
    "def jugar_ahorcado():\n",
    "    palabra_oculta= obtener_palabra_aleatoria()\n",
    "    letras_adivinadas= []\n",
    "    letras_falladas= []\n",
    "    intentos_restantes= 6 - len(letras_falladas)\n",
    "    while intentos_restantes != 0:\n",
    "        mostrar_tablero(palabra_oculta, letras_adivinadas)\n",
    "        letra_usuario= str(input(\"Escribe tu siguiente letra: \"))\n",
    "        if letra_usuario in palabra_oculta.split():\n",
    "            letras_adivinadas += 1\n",
    "        else:\n",
    "            letras_falladas += 1\n",
    "\n",
    "    "
   ]
  }
 ],
 "metadata": {
  "kernelspec": {
   "display_name": "Python 3",
   "language": "python",
   "name": "python3"
  },
  "language_info": {
   "codemirror_mode": {
    "name": "ipython",
    "version": 3
   },
   "file_extension": ".py",
   "mimetype": "text/x-python",
   "name": "python",
   "nbconvert_exporter": "python",
   "pygments_lexer": "ipython3",
   "version": "3.11.9"
  }
 },
 "nbformat": 4,
 "nbformat_minor": 2
}
