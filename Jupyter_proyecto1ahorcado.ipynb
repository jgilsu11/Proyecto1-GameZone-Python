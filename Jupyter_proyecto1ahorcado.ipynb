{
 "cells": [
  {
   "cell_type": "code",
   "execution_count": 2,
   "metadata": {},
   "outputs": [],
   "source": [
    "#Experimentar ahorcado\n",
    "import random"
   ]
  },
  {
   "cell_type": "markdown",
   "metadata": {},
   "source": [
    "***Clase Ahorcado***"
   ]
  },
  {
   "cell_type": "code",
   "execution_count": 5,
   "metadata": {},
   "outputs": [],
   "source": [
    "class Ahorcados:\n",
    "    def __init__(self):\n",
    "        self.palabra_oculta = self.obtener_palabra_aleatoria()\n",
    "        self.letras_adivinadas = []\n",
    "        self.intentos_restantes = 6\n",
    "        self.letras_usadas = []\n",
    "\n",
    "\n",
    "\n",
    "     "
   ]
  },
  {
   "cell_type": "markdown",
   "metadata": {},
   "source": [
    "***Selecciona palabra aleatoria***"
   ]
  },
  {
   "cell_type": "code",
   "execution_count": 42,
   "metadata": {},
   "outputs": [
    {
     "data": {
      "text/plain": [
       "'escuela'"
      ]
     },
     "execution_count": 42,
     "metadata": {},
     "output_type": "execute_result"
    }
   ],
   "source": [
    "#también se podría usar .randint que es lo que me salió al principio pero es más simple esta opción\n",
    "def obtener_palabra_aleatoria(lista_palabras):\n",
    "    palabras_ahorcado = [\n",
    "    \"gato\", \"perro\", \"casa\", \"sol\", \"luna\", \"arbol\", \"flor\", \"mar\", \"rio\", \"pez\",\n",
    "    \"nube\", \"cielo\", \"mesa\", \"silla\", \"libro\", \"lapiz\", \"papel\", \"coche\", \"tren\", \"avion\",\n",
    "    \"barco\", \"playa\", \"camion\", \"bosque\", \"campo\", \"ciudad\", \"calle\", \"puente\", \"parque\", \"jardin\",\n",
    "    \"escuela\", \"maestro\", \"alumno\", \"amigo\", \"familia\", \"comida\", \"fruta\", \"verdura\", \"musica\", \"cancion\",\"puerta\"\n",
    "    ]\n",
    "    palabra_aleatoria= random.choice(lista_palabras) #.self habría que añadir creo cuando haga clases\n",
    "    return palabra_aleatoria\n",
    "obtener_palabra_aleatoria(palabras_ahorcado)  #De la lista de palabras elige una palabra (string)\n"
   ]
  },
  {
   "cell_type": "markdown",
   "metadata": {},
   "source": [
    "***def mostrar tablero***"
   ]
  },
  {
   "cell_type": "code",
   "execution_count": 52,
   "metadata": {},
   "outputs": [],
   "source": [
    "def mostrar_tablero(palabra_secreta, letras_adivinadas):\n",
    "    tablero= \"\"\n",
    "    for letra in palabra_secreta:\n",
    "        if letra in letras_adivinadas:\n",
    "            tablero += letra\n",
    "        else:\n",
    "            tablero += \"_ \" #elimino un espacio para que se vea mejor\n",
    "\n",
    "    print(tablero)"
   ]
  },
  {
   "cell_type": "markdown",
   "metadata": {},
   "source": [
    "***Dibujo monigote***"
   ]
  },
  {
   "cell_type": "code",
   "execution_count": 63,
   "metadata": {},
   "outputs": [
    {
     "name": "stdout",
     "output_type": "stream",
     "text": [
      "  O  \n",
      "  |  \n",
      " / \\ \n",
      "  | \n",
      " / \\ \n",
      " \n"
     ]
    }
   ],
   "source": [
    "def dibujar_ahorcado(intentos_restantes):\n",
    "    partes = [\n",
    "        \"  O  \",  # Cabeza\n",
    "        \"  |  \",  # Cuello\n",
    "        \" / \\ \",     # Brazos\n",
    "        \"  | \",   # tronco\n",
    "        \" / \\ \",     # Pierna\n",
    "        \"/   \\ \"    # Pies\n",
    "    ]\n",
    "    dibujo = [\" \"] * 6   #lista con 6 espacios vacíos\n",
    "    for i in range(6 - intentos_restantes): #el 6-... es para indicar el número de fallos entonces si quedan 4 intentos restantes han habido 6-4=2 fallos\n",
    "        dibujo[i] = partes[i]\n",
    "    print(\"\\n\".join(dibujo)) \n",
    "dibujar_ahorcado(1)"
   ]
  },
  {
   "cell_type": "markdown",
   "metadata": {},
   "source": [
    "***def jugar***"
   ]
  },
  {
   "cell_type": "code",
   "execution_count": 60,
   "metadata": {},
   "outputs": [],
   "source": [
    "def jugar_ahorcado():\n",
    "    palabra_oculta= obtener_palabra_aleatoria()\n",
    "    letras_adivinadas= []\n",
    "    intentos_restantes= 6 \n",
    "    letras_usadas= []  #la creo para que se vean cuales se han utilizado\n",
    "    while intentos_restantes > 0:\n",
    "        mostrar_tablero(palabra_oculta, letras_adivinadas)\n",
    "        print(f\"Letras usadas: {', '.join(letras_usadas)}\") #uso join con , para que aparezcan a, b, c etc)\n",
    "        letra_usuario= input(\"Escribe tu siguiente letra: \").lower().strip()\n",
    "         \n",
    "        if letra_usuario in letras_usadas:\n",
    "            print(\"Esta letra ya la has usado, prueba con otra\")\n",
    "            continue\n",
    "        letras_usadas.append(letra_usuario)            #Lo he tenido que meter en medio porque al principio lo metí antes y todas me las daba por usadas (además esto me hace no poder usar elif por eso en la siguiente he puesto if)\n",
    "        if letra_usuario in palabra_oculta: #palabra oculta ya es un string y con el in ya sirve no hace falta split \n",
    "            letras_adivinadas.append(letra_usuario)\n",
    "            if set(letras_adivinadas) == set(palabra_oculta):  #Utilizamos set porque así se eliminan duplicados\n",
    "                print(\"¡¡Felicidades has adivinado la palabra!!\")\n",
    "                break\n",
    "        else:\n",
    "            intentos_restantes -= 1\n",
    "            dibujar_ahorcado(intentos_restantes)\n",
    "            if intentos_restantes > 0:\n",
    "                print(f\"Lo siento, esa letra no está en la palabra, prueba otra vez que te quedan {intentos_restantes} intentos\")\n",
    "    if intentos_restantes == 0:\n",
    "        print(f\"Lo lamento no has conseguido adivinar la palabra. La palabra era {palabra_oculta}. Me temo que la ganadora ha sido ¡¡MAQUINA!!\")\n",
    "    \n"
   ]
  },
  {
   "cell_type": "markdown",
   "metadata": {},
   "source": [
    "**Comprobación de que no se necesita el split**"
   ]
  },
  {
   "cell_type": "code",
   "execution_count": 59,
   "metadata": {},
   "outputs": [
    {
     "data": {
      "text/plain": [
       "'puente'"
      ]
     },
     "execution_count": 59,
     "metadata": {},
     "output_type": "execute_result"
    }
   ],
   "source": [
    "\n",
    "obtener_palabra_aleatoria(palabras_ahorcado)\n",
    "palabra_oculta= obtener_palabra_aleatoria(palabras_ahorcado)\n",
    "palabra_oculta"
   ]
  },
  {
   "cell_type": "markdown",
   "metadata": {},
   "source": [
    "***Para que se pueda elegir que hacer al terminar***"
   ]
  },
  {
   "cell_type": "code",
   "execution_count": null,
   "metadata": {},
   "outputs": [],
   "source": [
    "while True:\n",
    "        print(\"\\n¿Qué te gustaría hacer ahora?\")\n",
    "        print(\"1. Volver a jugar\")\n",
    "        print(\"2. Volver al menú principal\")\n",
    "        print(\"3. Salir\")\n",
    "        opcion = input(\"Elige una opción (1, 2, 3): \").strip()  #Por si ponen algun espacio sin querer (o queriendo)\n",
    "\n",
    "\n",
    "        if opcion == \"1\":\n",
    "            jugar_ahorcado()\n",
    "            break\n",
    "        elif opcion == \"2\":\n",
    "            print(\"Volviendo al menú principal... (aún por implementar)\")\n",
    "            break\n",
    "        elif opcion == \"3\":\n",
    "            print(\"¡Gracias por jugar! Hasta la próxima.\")\n",
    "            exit()\n",
    "        else:\n",
    "            print(\"Opción no válida. Por favor, elige 1, 2 o 3.\")"
   ]
  },
  {
   "cell_type": "code",
   "execution_count": null,
   "metadata": {},
   "outputs": [],
   "source": [
    "jugar_ahorcado()"
   ]
  },
  {
   "cell_type": "markdown",
   "metadata": {},
   "source": [
    "***Clase donde juntar todo***"
   ]
  },
  {
   "cell_type": "code",
   "execution_count": null,
   "metadata": {},
   "outputs": [],
   "source": [
    "\n",
    "import random\n",
    "\n",
    "\n",
    "\n",
    "\n",
    "class Ahorcados:\n",
    "    def __init__(self):\n",
    "        self.palabra_oculta = self.obtener_palabra_aleatoria()\n",
    "        self.letras_adivinadas = []\n",
    "        self.intentos_restantes = 6\n",
    "        self.letras_usadas = []\n",
    "\n",
    "    def obtener_palabra_aleatoria(self):  #Aquí se tiene q sustituir la lista por self\n",
    "        palabras_ahorcado = [\n",
    "            \"gato\", \"perro\", \"casa\", \"sol\", \"luna\", \"arbol\", \"flor\", \"mar\", \"rio\", \"pez\",\n",
    "            \"nube\", \"cielo\", \"mesa\", \"silla\", \"libro\", \"lapiz\", \"papel\", \"coche\", \"tren\", \"avion\",\n",
    "            \"barco\", \"playa\", \"camion\", \"bosque\", \"campo\", \"ciudad\", \"calle\", \"puente\", \"parque\", \"jardin\",\n",
    "            \"escuela\", \"maestro\", \"alumno\", \"amigo\", \"familia\", \"comida\", \"fruta\", \"verdura\", \"musica\", \"cancion\", \"puerta\"\n",
    "        ]\n",
    "        return random.choice(palabras_ahorcado)\n",
    "\n",
    "    def mostrar_tablero(self):\n",
    "        tablero = \"\"\n",
    "        for letra in self.palabra_oculta:       #Tengo que usar self para que se comuniquen los métodos (Ejemplo habitaciones y pasillo)\n",
    "            if letra in self.letras_adivinadas:\n",
    "                tablero += letra\n",
    "            else:\n",
    "                tablero += \"_ \"\n",
    "        print(tablero)\n",
    "\n",
    "    def dibujar_ahorcado(self):\n",
    "        partes = [\n",
    "            \"  O  \",  \n",
    "            \"  |  \",  \n",
    "            \" / \\ \",     \n",
    "            \"  | \",   \n",
    "            \" / \\ \",     \n",
    "            \"/   \\ \"    \n",
    "        ]\n",
    "        dibujo = [\" \"] * 6   \n",
    "        for i in range(6 - self.intentos_restantes):   #Tengo que usar self de nuevo\n",
    "            dibujo[i] = partes[i]\n",
    "        print(\"\\n\".join(dibujo))\n",
    "\n",
    "    def jugar(self):                      #Todo lo que había al principio del juego pasa al constructor \n",
    "        while self.intentos_restantes > 0:\n",
    "            self.mostrar_tablero()                 #También se usa self para acceder a otros métodos de la clase\n",
    "            print(f\"Letras usadas: {', '.join(self.letras_usadas)}\") \n",
    "            letra_usuario = input(\"Escribe tu siguiente letra: \").lower().strip()\n",
    "            \n",
    "            if letra_usuario in self.letras_usadas:\n",
    "                print(\"Esta letra ya la has usado, prueba con otra\")\n",
    "                continue\n",
    "            self.letras_usadas.append(letra_usuario)            \n",
    "            if letra_usuario in self.palabra_oculta:  \n",
    "                self.letras_adivinadas.append(letra_usuario)\n",
    "                if set(self.letras_adivinadas) == set(self.palabra_oculta):  \n",
    "                    print(\"¡¡Felicidades has adivinado la palabra!!\")\n",
    "                    break\n",
    "            else:\n",
    "                self.intentos_restantes -= 1\n",
    "                self.dibujar_ahorcado()\n",
    "                if self.intentos_restantes > 0:\n",
    "                    print(f\"Lo siento, esa letra no está en la palabra, prueba otra vez que te quedan {self.intentos_restantes} intentos\")\n",
    "        if self.intentos_restantes == 0:\n",
    "            print(f\"Lo lamento no has conseguido adivinar la palabra. La palabra era {self.palabra_oculta}. Me temo que la ganadora ha sido ¡¡MAQUINA!!\")\n",
    "        self.opciones_post()\n",
    "\n",
    "    def opciones_post(self):\n",
    "        while True:\n",
    "            print(\"\\n¿Qué te gustaría hacer ahora?\")\n",
    "            print(\"1. Volver a jugar\")\n",
    "            print(\"2. Volver al menú principal\")\n",
    "            print(\"3. Salir\")\n",
    "            opcion = input(\"Elige una opción (1, 2, 3): \").strip()  \n",
    "\n",
    "            if opcion == \"1\":\n",
    "                self.__init__()    #Hasta que descubrí que esto había que hacerse lo tenía roto\n",
    "                self.jugar()       #Como la primera opción es volver a jugar, se tiene q volver a iniciar la clase/constructor? y ejecutar jugar\n",
    "                break\n",
    "            elif opcion == \"2\":\n",
    "                print(\"Volviendo al menú principal... (aún por implementar)\")\n",
    "                break\n",
    "            elif opcion == \"3\":\n",
    "                print(\"¡Gracias por jugar! Hasta la próxima.\")\n",
    "                exit()\n",
    "            else:\n",
    "                print(\"Opción no válida. Por favor, elige 1, 2 o 3.\")\n",
    "\n",
    "if __name__ == \"__main__\":     #Esto es para que si se lleva el módulo a otro archivo, este no se ejecute como main al no ser que se use el nombre (Por si hago un menú) \n",
    "\n",
    "    juego = Ahorcados()\n",
    "    juego.jugar()\n"
   ]
  }
 ],
 "metadata": {
  "kernelspec": {
   "display_name": "Python 3",
   "language": "python",
   "name": "python3"
  },
  "language_info": {
   "codemirror_mode": {
    "name": "ipython",
    "version": 3
   },
   "file_extension": ".py",
   "mimetype": "text/x-python",
   "name": "python",
   "nbconvert_exporter": "python",
   "pygments_lexer": "ipython3",
   "version": "3.11.9"
  }
 },
 "nbformat": 4,
 "nbformat_minor": 2
}
