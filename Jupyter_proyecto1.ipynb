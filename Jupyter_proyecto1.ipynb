{
 "cells": [
  {
   "cell_type": "markdown",
   "metadata": {},
   "source": [
    "Jupyter Proyecto"
   ]
  },
  {
   "cell_type": "markdown",
   "metadata": {},
   "source": [
    "***PREGUNTADOS***"
   ]
  },
  {
   "cell_type": "markdown",
   "metadata": {},
   "source": [
    "**Categorías de preguntas**"
   ]
  },
  {
   "cell_type": "code",
   "execution_count": 15,
   "metadata": {},
   "outputs": [],
   "source": [
    "import random"
   ]
  },
  {
   "cell_type": "code",
   "execution_count": null,
   "metadata": {},
   "outputs": [],
   "source": []
  },
  {
   "cell_type": "code",
   "execution_count": 158,
   "metadata": {},
   "outputs": [],
   "source": [
    "#Para llamar preguntas\n",
    "geografia={\n",
    "    \"pregunta1\":\"¿Cuál es la capital de Francia?paris\",\n",
    "    \"pregunta2\":\"¿Qué país tiene la mayor cantidad de habitantes?china\",\n",
    "    \"pregunta3\":\"¿En qué continente se encuentra Egipto?africa\",\n",
    "    \"pregunta4\":\"¿Cuál es el río más largo del mundo?nilo\"\n",
    "}\n",
    "ciencia={\n",
    "    \"pregunta1\":\"¿Qué gas es fundamental para la respiración humana?oxigeno\",\n",
    "    \"pregunta2\":\"¿Cuál es la fórmula química del agua?h2o\",\n",
    "    \"pregunta3\":\"¿Qué tipo de animal es una ballena?mamifero\",\n",
    "    \"pregunta4\":\"¿Cuántos planetas tiene el sistema solar?8\"\n",
    "}\n",
    "historia={\n",
    "    \"pregunta1\":\"¿En qué año se descubrió América?1492\",\n",
    "    \"pregunta2\":\"¿Quién fue el primer presidente de los Estados Unidos?george washington\",\n",
    "    \"pregunta3\":\"¿Cuál fue el conflicto armado que tuvo lugar entre 1939 y 1945?segunda guerra mundial\",\n",
    "    \"pregunta4\":\"¿Qué revolucionario cubano nació en Argentina?che guevara\"\n",
    "}\n",
    "cultura_general={\n",
    "    \"pregunta1\":\"¿Cuál es el planeta más cercano al Sol?mercurio\",\n",
    "    \"pregunta2\":\"¿Cuál es el idioma más hablado en el mundo?mandarin\",\n",
    "    \"pregunta3\":\"¿Qué invento se le atribuye a Alexander Graham Bell?telefono\",\n",
    "    \"pregunta4\":\"¿Cuál es el océano más grande?pacifico\"\n",
    "}\n",
    "\n"
   ]
  },
  {
   "cell_type": "code",
   "execution_count": null,
   "metadata": {},
   "outputs": [],
   "source": [
    "#Lo guardo por si sirve \n",
    "categoria_raw=[\"geografia\",\"ciencia\",\"historia\",\"cultura_general\"]\n",
    "categoría= random.choice(categoria_raw)\n",
    "categoría\n",
    "\n",
    "#también lo guardo por si sirve\n",
    "{\"¿Cuál es la capital de Francia?paris\": {\"respuestas1\":{{\"a) paris\":True},{\"madrid\":False},{\"londres\":False},{\"roma\":False}}}}"
   ]
  },
  {
   "cell_type": "code",
   "execution_count": null,
   "metadata": {},
   "outputs": [
    {
     "ename": "TypeError",
     "evalue": "unhashable type: 'set'",
     "output_type": "error",
     "traceback": [
      "\u001b[1;31m---------------------------------------------------------------------------\u001b[0m",
      "\u001b[1;31mTypeError\u001b[0m                                 Traceback (most recent call last)",
      "Cell \u001b[1;32mIn[94], line 3\u001b[0m\n\u001b[0;32m      1\u001b[0m \u001b[38;5;66;03m#Esto sirve como selector aleatorio de preguntas de un diccionario\u001b[39;00m\n\u001b[0;32m      2\u001b[0m rango_pregunta\u001b[38;5;241m=\u001b[39m random\u001b[38;5;241m.\u001b[39mrandrange(\u001b[38;5;241m0\u001b[39m,\u001b[38;5;241m4\u001b[39m,\u001b[38;5;241m1\u001b[39m)  \n\u001b[1;32m----> 3\u001b[0m \u001b[38;5;28mprint\u001b[39m(\u001b[43mgeografia\u001b[49m\u001b[43m[\u001b[49m\u001b[43m{\u001b[49m\u001b[43mrango_pregunta\u001b[49m\u001b[43m}\u001b[49m\u001b[43m]\u001b[49m)\n\u001b[0;32m      4\u001b[0m \u001b[38;5;66;03m#Esto sirve como seleccionador de temática(diccionario)\u001b[39;00m\n",
      "\u001b[1;31mTypeError\u001b[0m: unhashable type: 'set'"
     ]
    }
   ],
   "source": [
    "#Esto sirve como selector aleatorio de preguntas de un diccionario\n",
    "rango_pregunta= random.randrange(0,4,1)  \n",
    "print(geografia[f\"pregunta{rango_pregunta}\"])\n",
    "#Esto sirve como seleccionador de temática(diccionario)\n"
   ]
  },
  {
   "cell_type": "code",
   "execution_count": 157,
   "metadata": {},
   "outputs": [
    {
     "data": {
      "text/plain": [
       "'mercurio'"
      ]
     },
     "execution_count": 157,
     "metadata": {},
     "output_type": "execute_result"
    }
   ],
   "source": [
    "#Usaré el split y 0 será la pregunta y el 1 la respuesta correcta\n",
    "rango_pregunta= random.randrange(0,4,1)  \n",
    "\n",
    "pregunta_respuestageo=list(geografia.values())[rango_pregunta].split(\"?\")\n",
    "pregunta_respuestageo[0] #pregunta\n",
    "pregunta_respuestageo[1] #respuesta\n",
    "\n",
    "pregunta_respuestahis=list(historia.values())[rango_pregunta].split(\"?\")\n",
    "pregunta_respuestahis[0] #pregunta\n",
    "pregunta_respuestahis[1] #respuesta\n",
    "\n",
    "pregunta_respuestacie=list(ciencia.values())[rango_pregunta].split(\"?\")\n",
    "pregunta_respuestacie[0] #pregunta\n",
    "pregunta_respuestacie[1] #respuesta\n",
    "\n",
    "pregunta_respuestacul=list(cultura_general.values())[rango_pregunta].split(\"?\")\n",
    "pregunta_respuestacul[0] #pregunta\n",
    "pregunta_respuestacul[1] #respuesta"
   ]
  },
  {
   "cell_type": "code",
   "execution_count": 114,
   "metadata": {},
   "outputs": [
    {
     "data": {
      "text/plain": [
       "'ciencia'"
      ]
     },
     "execution_count": 114,
     "metadata": {},
     "output_type": "execute_result"
    }
   ],
   "source": [
    "categoria_raw=[\"geografia\",\"ciencia\",\"historia\",\"cultura_general\"]\n",
    "categoría= random.choice(categoria_raw)\n",
    "categoría\n"
   ]
  },
  {
   "cell_type": "code",
   "execution_count": null,
   "metadata": {},
   "outputs": [],
   "source": [
    "class Preguntados:\n",
    "    def __init__(self,):\n",
    "        self.rango_pregunta= random.randrange(1,4,1)  \n",
    "        pass\n",
    "\n",
    "    def seleccionador de (self):\n",
    "\n",
    "    \n"
   ]
  },
  {
   "cell_type": "code",
   "execution_count": null,
   "metadata": {},
   "outputs": [],
   "source": [
    "jugar= int(input(\"¿Quieres jugar a Preguntados? Escribe 1 si la respuesta es afirmativa 2 si No\"))\n",
    "if jugar == 1:\n",
    "    print(geografia[f\"pregunt{range[1,4]}\"])\n",
    "else:\n",
    "    pass\n"
   ]
  },
  {
   "cell_type": "code",
   "execution_count": null,
   "metadata": {},
   "outputs": [],
   "source": [
    "geografia={\n",
    "    \"¿Cuál es la capital de Francia?\":\"Lyon\"=False,\"Marsella\"=False,\"París\"=True,\"Niza\"=False,\n",
    "    \"¿Qué país tiene la mayor cantidad de habitantes?\":\"India\",\"Estados Unidos\",\"Rusia\",\"China\"\n",
    "    \"¿En qué continente se encuentra Egipto?\":,\n",
    "    \"¿Cuál es el río más largo del mundo?\":\n",
    "}\n",
    "ciencia={\n",
    "    \"¿Qué gas es fundamental para la respiración humana?\":,\n",
    "    \"¿Cuál es la fórmula química del agua?\":,\n",
    "    \"¿Qué tipo de animal es una ballena?\":,\n",
    "    \"¿Cuántos planetas tiene el sistema solar?\":\n",
    "}\n",
    "historia={\n",
    "    \"¿En qué año se descubrió América?\":,\n",
    "    \"¿Quién fue el primer presidente de los Estados Unidos?\":,\n",
    "    \"¿Cuál fue el conflicto armado que tuvo lugar entre 1939 y 1945?\":,\n",
    "    \"¿Qué revolucionario cubano nació en Argentina?\"\n",
    "}\n",
    "cultura_general={\n",
    "    \"¿Cuál es el planeta más cercano al Sol?\":,\n",
    "    \"¿Cuál es el idioma más hablado en el mundo?\":,\n",
    "    \"¿Qué invento se le atribuye a Alexander Graham Bell?\":,\n",
    "    \"¿Cuál es el océano más grande?\"\n",
    "}"
   ]
  }
 ],
 "metadata": {
  "kernelspec": {
   "display_name": "Python 3",
   "language": "python",
   "name": "python3"
  },
  "language_info": {
   "codemirror_mode": {
    "name": "ipython",
    "version": 3
   },
   "file_extension": ".py",
   "mimetype": "text/x-python",
   "name": "python",
   "nbconvert_exporter": "python",
   "pygments_lexer": "ipython3",
   "version": "3.11.9"
  }
 },
 "nbformat": 4,
 "nbformat_minor": 2
}
