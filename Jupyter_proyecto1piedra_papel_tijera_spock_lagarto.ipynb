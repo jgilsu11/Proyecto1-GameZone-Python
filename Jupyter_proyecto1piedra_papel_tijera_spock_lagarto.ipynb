{
 "cells": [
  {
   "cell_type": "code",
   "execution_count": null,
   "metadata": {},
   "outputs": [],
   "source": [
    "#p-p-t-l-s y p-p-t"
   ]
  }
 ],
 "metadata": {
  "language_info": {
   "name": "python"
  }
 },
 "nbformat": 4,
 "nbformat_minor": 2
}
