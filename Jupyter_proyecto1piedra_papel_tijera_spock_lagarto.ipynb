{
 "cells": [
  {
   "cell_type": "code",
   "execution_count": 2,
   "metadata": {},
   "outputs": [],
   "source": [
    "import random\n",
    "import os"
   ]
  },
  {
   "cell_type": "markdown",
   "metadata": {},
   "source": [
    "**Limpiar terminal**"
   ]
  },
  {
   "cell_type": "code",
   "execution_count": 3,
   "metadata": {},
   "outputs": [],
   "source": [
    "def limpiar_terminal():\n",
    "    \"\"\"Limpia la terminal\n",
    "    \"\"\"\n",
    "    os.system('cls' if os.name == 'nt' else 'clear') #Lo ponía en el video y me gustó. cls es para windows pero no me atrevo a tocarlo"
   ]
  },
  {
   "cell_type": "markdown",
   "metadata": {},
   "source": [
    "***Crear modo de juego***"
   ]
  },
  {
   "cell_type": "code",
   "execution_count": 1,
   "metadata": {},
   "outputs": [],
   "source": [
    "def obtener_opciones_y_resultados(modo):     #Simplemente define las opciones y resultados posibles\n",
    "    \"\"\"Función que simplemente define las opciones y resultados posibles\n",
    "    \"\"\"      \n",
    "    if modo == \"clasico\":\n",
    "        opciones = [\"piedra\", \"papel\", \"tijera\"]\n",
    "        resultados = {\n",
    "            \"piedra\": [\"tijera\"],\n",
    "            \"papel\": [\"piedra\"],\n",
    "            \"tijera\": [\"papel\"]\n",
    "        }\n",
    "    else:\n",
    "        opciones = [\"piedra\", \"papel\", \"tijera\", \"lagarto\", \"spock\"]\n",
    "        resultados = {\n",
    "            \"piedra\": [\"tijera\", \"lagarto\"],\n",
    "            \"papel\": [\"piedra\", \"spock\"],\n",
    "            \"tijera\": [\"papel\", \"lagarto\"],\n",
    "            \"lagarto\": [\"spock\", \"papel\"],\n",
    "            \"spock\": [\"tijera\", \"piedra\"]\n",
    "        }\n",
    "    return opciones, resultados"
   ]
  },
  {
   "cell_type": "markdown",
   "metadata": {},
   "source": [
    "***Opciones usuario***"
   ]
  },
  {
   "cell_type": "code",
   "execution_count": 4,
   "metadata": {},
   "outputs": [],
   "source": [
    "def obtener_opcion_jugador(opciones):\n",
    "    \"\"\"Muestra las opciones a elegir al usuario y comprueba que su respuesta sea válida\n",
    "    \"\"\"\n",
    "    while True:\n",
    "        print(\"\\nElige una opción:\")\n",
    "        for i, opcion in enumerate(opciones, 1):    #Crea un índice para cada opción comenzando desde el 1.Ej: si opciones es piedra, papel tijera \n",
    "            print(f\"{i}. {opcion.capitalize()}\")    #devuelve devuelve 1. pie 2. pape 3. tije\n",
    "        eleccion = input(\"Tu elección: \").strip()  \n",
    "        if eleccion.isdigit() and 1 <= int(eleccion) <= len(opciones): #.isdigit verifica si la entrada es un número. \n",
    "            return opciones[int(eleccion) - 1]                         # lo e <= comprueba si está dentro del rango válido (1-5)o(1-3) por eso pone uno y len en los extremos\n",
    "        else:                                                          #Lo del -1 es porque convierte la respuesta del ususario a un índice de lista\n",
    "            print(\"Opción no válida. Intenta de nuevo.\")\n",
    "\n",
    "def obtener_opcion_maquina(opciones):   #También la máquina tiene que elegir por eso se pone random.choice(elige string aleatorio)\n",
    "    \"\"\"Elección aleatoria de la máquina entre las opciones\n",
    "    \"\"\"  \n",
    "    return random.choice(opciones)\n"
   ]
  },
  {
   "cell_type": "markdown",
   "metadata": {},
   "source": [
    "***Ganador***"
   ]
  },
  {
   "cell_type": "code",
   "execution_count": 5,
   "metadata": {},
   "outputs": [],
   "source": [
    "def determinar_ganador(jugador, maquina, resultados):\n",
    "    \"\"\"Comprueba si se llega a un empate o determina quien gana\n",
    "    \"\"\"\n",
    "    if jugador == maquina:        #jugador y máquina reflejan las opciones que eligieron ejemplo de empate tijera==tijera\n",
    "        return \"empate\"\n",
    "    elif maquina in resultados[jugador]:  #si la eleccion de la maquina se encuentra en los valores de la clave (jugador(por ejemplo tijera)) del diccionario resultados, entonces gana el jugador\n",
    "        return \"jugador\"\n",
    "    else:\n",
    "        return \"maquina\""
   ]
  },
  {
   "cell_type": "markdown",
   "metadata": {},
   "source": [
    "***Ronda***"
   ]
  },
  {
   "cell_type": "code",
   "execution_count": 6,
   "metadata": {},
   "outputs": [],
   "source": [
    "def jugar_ronda(opciones, resultados, victorias_jugador, victorias_maquina):\n",
    "    \"\"\"Esta función lleva la lógica del juego con la correspondiente distribución de puntos, es decir, lo que sucede cada ronda\n",
    "    \"\"\"\n",
    "    jugador = obtener_opcion_jugador(opciones)\n",
    "    maquina = obtener_opcion_maquina(opciones)\n",
    "    print(f\"\\nTú elegiste: {jugador.capitalize()}\")\n",
    "    print(f\"La máquina eligió: {maquina.capitalize()}\")\n",
    "\n",
    "    ganador = determinar_ganador(jugador, maquina, resultados)\n",
    "    if ganador == \"jugador\":\n",
    "        print(\"¡Ganaste esta ronda!\")\n",
    "        victorias_jugador += 1\n",
    "    elif ganador == \"maquina\":\n",
    "        print(\"La máquina ganó esta ronda.\")\n",
    "        victorias_maquina += 1\n",
    "    else:\n",
    "        print(\"Esta ronda es un empate.\")\n",
    "\n",
    "    print(f\"\\nVictorias - Jugador: {victorias_jugador}, Máquina: {victorias_maquina}\")\n",
    "    return victorias_jugador, victorias_maquina"
   ]
  },
  {
   "cell_type": "markdown",
   "metadata": {},
   "source": [
    "***Opciones al terminar***"
   ]
  },
  {
   "cell_type": "code",
   "execution_count": 7,
   "metadata": {},
   "outputs": [],
   "source": [
    "def opciones_despues_del_juego():\n",
    "    \"\"\"Opciones que se muestran al usuario al terminar la partida donde se le permite \n",
    "       volver a jugar, cambiar de modalidad (menú principal), ir al menú de otros juegos o salir\n",
    "    \"\"\"\n",
    "    while True:\n",
    "        print(\"\\n¿Qué te gustaría hacer ahora?\")\n",
    "        print(\"1. Volver a jugar\")\n",
    "        print(\"2. Ir al menú principal\")\n",
    "        print(\"3. Ir al menú de juegos\")\n",
    "        print(\"4. Terminar\")\n",
    "        opcion = input(\"Elige una opción (1, 2, 3 o 4): \").strip()\n",
    "\n",
    "        if opcion == \"1\":\n",
    "            return \"reiniciar\"\n",
    "        elif opcion == \"2\":\n",
    "            print(\"Cargando menú principal ...\")\n",
    "            return \"menu_principal\"\n",
    "        elif opcion == \"3\":\n",
    "            print(\"Cargando menú de juegos ... (Próximamente disponible)\")\n",
    "            exit()\n",
    "        elif opcion == \"4\":\n",
    "            print(\"¡Gracias por jugar! Hasta la próxima.\")\n",
    "            exit()\n",
    "        else:\n",
    "            print(\"Opción no válida. Por favor, elige 1, 2, 3 o 4.\")"
   ]
  },
  {
   "cell_type": "markdown",
   "metadata": {},
   "source": [
    "***Jugar***"
   ]
  },
  {
   "cell_type": "code",
   "execution_count": 8,
   "metadata": {},
   "outputs": [],
   "source": [
    "def jugar(modo):\n",
    "    \"\"\"Es la función donde se ordenan el resto de funciones con todo lo necesario para que se ejecute el juego\n",
    "    \"\"\"\n",
    "    limpiar_terminal()\n",
    "    opciones, resultados = obtener_opciones_y_resultados(modo)\n",
    "    victorias_jugador = 0\n",
    "    victorias_maquina = 0\n",
    "    rondas_para_ganar = 3\n",
    "\n",
    "    print(f\"¡Bienvenido a Piedra, Papel, Tijera{' , Lagarto, Spock' if modo == 'extendido' else ''}!\")\n",
    "    while victorias_jugador < rondas_para_ganar and victorias_maquina < rondas_para_ganar:\n",
    "        victorias_jugador, victorias_maquina = jugar_ronda(opciones, resultados, victorias_jugador, victorias_maquina)\n",
    "\n",
    "    if victorias_jugador == rondas_para_ganar:\n",
    "        print(\"\\n¡Felicidades! Has ganado el juego.\")\n",
    "    else:\n",
    "        print(\"\\nLa máquina ha ganado el juego. Mejor suerte la próxima vez.\")\n",
    "\n",
    "    return opciones_despues_del_juego()"
   ]
  },
  {
   "cell_type": "markdown",
   "metadata": {},
   "source": [
    "***Menú donde elegir opciones de juego***"
   ]
  },
  {
   "cell_type": "code",
   "execution_count": 9,
   "metadata": {},
   "outputs": [],
   "source": [
    "def main_menu():\n",
    "    \"\"\"Muestra las opciones de modalidad de juego (clásica o extendida) y la opción de terminar\n",
    "    \"\"\"\n",
    "    while True:\n",
    "        print(\"Menú Principal\")\n",
    "        print(\"1. Jugar Piedra, Papel, Tijera, Lagarto, Spock\")\n",
    "        print(\"2. Jugar Piedra, Papel, Tijera clásico\")\n",
    "        print(\"3. Salir\")\n",
    "        choice = input(\"Selecciona una opción: \")\n",
    "        if choice == '1':\n",
    "            resultado = jugar(modo=\"extendido\")\n",
    "            if resultado == \"reiniciar\":\n",
    "                jugar(modo=\"extendido\")\n",
    "        elif choice == '2':\n",
    "            resultado = jugar(modo=\"clasico\")\n",
    "            if resultado == \"reiniciar\":\n",
    "                jugar(modo=\"clasico\")\n",
    "        elif choice == '3':\n",
    "            print(\"¡Gracias por jugar!\")\n",
    "            break\n",
    "        else:\n",
    "            print(\"Opción no válida. Intenta de nuevo.\")"
   ]
  },
  {
   "cell_type": "code",
   "execution_count": 10,
   "metadata": {},
   "outputs": [
    {
     "name": "stdout",
     "output_type": "stream",
     "text": [
      "Menú Principal\n",
      "1. Jugar Piedra, Papel, Tijera, Lagarto, Spock\n",
      "2. Jugar Piedra, Papel, Tijera clásico\n",
      "3. Salir\n",
      "¡Gracias por jugar!\n"
     ]
    }
   ],
   "source": [
    "if __name__ == \"__main__\":\n",
    "    main_menu()"
   ]
  },
  {
   "cell_type": "markdown",
   "metadata": {},
   "source": [
    "***Clases***"
   ]
  },
  {
   "cell_type": "code",
   "execution_count": null,
   "metadata": {},
   "outputs": [],
   "source": [
    "\n",
    "class Piedra_papel_tijera:\n",
    "    def __init__(self):\n",
    "        self.victorias_jugador = 0\n",
    "        self.victorias_maquina = 0\n",
    "        self.rondas_para_ganar = 3\n",
    "\n",
    "    def limpiar_terminal(self):\n",
    "        \"\"\"Limpia la terminal\n",
    "        \"\"\"\n",
    "        os.system('cls' if os.name == 'nt' else 'clear')\n",
    "\n",
    "    def obtener_opciones_y_resultados(self, modo):\n",
    "        \"\"\"Función que simplemente define las opciones y resultados posibles\n",
    "        \"\"\"\n",
    "        if modo == \"clasico\":\n",
    "            opciones = [\"piedra\", \"papel\", \"tijera\"]\n",
    "            resultados = {\n",
    "                \"piedra\": [\"tijera\"],\n",
    "                \"papel\": [\"piedra\"],\n",
    "                \"tijera\": [\"papel\"]\n",
    "            }\n",
    "        else:\n",
    "            opciones = [\"piedra\", \"papel\", \"tijera\", \"lagarto\", \"spock\"]\n",
    "            resultados = {\n",
    "                \"piedra\": [\"tijera\", \"lagarto\"],\n",
    "                \"papel\": [\"piedra\", \"spock\"],\n",
    "                \"tijera\": [\"papel\", \"lagarto\"],\n",
    "                \"lagarto\": [\"spock\", \"papel\"],\n",
    "                \"spock\": [\"tijera\", \"piedra\"]\n",
    "            }\n",
    "        return opciones, resultados\n",
    "\n",
    "    def obtener_opcion_jugador(self, opciones):\n",
    "        \"\"\"Muestra las opciones a elegir al usuario y comprueba que su respuesta sea válida\n",
    "        \"\"\"\n",
    "        while True:\n",
    "            print(\"\\nElige una opción:\")\n",
    "            for i, opcion in enumerate(opciones, 1):\n",
    "                print(f\"{i}. {opcion.capitalize()}\")\n",
    "            eleccion = input(\"Tu elección: \").strip()\n",
    "            if eleccion.isdigit() and 1 <= int(eleccion) <= len(opciones):\n",
    "                return opciones[int(eleccion) - 1]\n",
    "            else:\n",
    "                print(\"Opción no válida. Intenta de nuevo.\")\n",
    "\n",
    "    def obtener_opcion_maquina(self, opciones):\n",
    "        \"\"\"Elección aleatoria de la máquina entre las opciones\n",
    "        \"\"\"\n",
    "        return random.choice(opciones)\n",
    "\n",
    "    def determinar_ganador(self, jugador, maquina, resultados):\n",
    "        \"\"\"Comprueba si se llega a un empate o determina quien gana\n",
    "        \"\"\"\n",
    "        if jugador == maquina:\n",
    "            return \"empate\"\n",
    "        elif maquina in resultados[jugador]:\n",
    "            return \"jugador\"\n",
    "        else:\n",
    "            return \"maquina\"\n",
    "\n",
    "    def jugar_ronda(self, opciones, resultados):\n",
    "        \"\"\"Esta función lleva la lógica del juego con la correspondiente distribución de puntos, es decir, lo que sucede cada ronda\n",
    "        \"\"\"\n",
    "        jugador = self.obtener_opcion_jugador(opciones)\n",
    "        maquina = self.obtener_opcion_maquina(opciones)\n",
    "        print(f\"\\nTú elegiste: {jugador.capitalize()}\")\n",
    "        print(f\"La máquina eligió: {maquina.capitalize()}\")\n",
    "\n",
    "        ganador = self.determinar_ganador(jugador, maquina, resultados)\n",
    "        if ganador == \"jugador\":\n",
    "            print(\"¡Ganaste esta ronda!\")\n",
    "            self.victorias_jugador += 1\n",
    "        elif ganador == \"maquina\":\n",
    "            print(\"La máquina ganó esta ronda.\")\n",
    "            self.victorias_maquina += 1\n",
    "        else:\n",
    "            print(\"Esta ronda es un empate.\")\n",
    "\n",
    "        print(f\"\\nVictorias - Jugador: {self.victorias_jugador}, Máquina: {self.victorias_maquina}\")\n",
    "\n",
    "    def opciones_despues_del_juego(self):\n",
    "        \"\"\"Opciones que se muestran al usuario al terminar la partida donde se le permite\n",
    "           volver a jugar, cambiar de modalidad (menú principal), ir al menú de otros juegos o salir\n",
    "        \"\"\"\n",
    "        while True:\n",
    "            print(\"\\n¿Qué te gustaría hacer ahora?\")\n",
    "            print(\"1. Volver a jugar\")\n",
    "            print(\"2. Ir al menú principal\")\n",
    "            print(\"3. Ir al menú de juegos\")\n",
    "            print(\"4. Terminar\")\n",
    "            opcion = input(\"Elige una opción (1, 2, 3 o 4): \").strip()\n",
    "\n",
    "            if opcion == \"1\":\n",
    "                return \"reiniciar\"\n",
    "            elif opcion == \"2\":\n",
    "                print(\"Cargando menú principal ...\")\n",
    "                return \"menu_principal\"\n",
    "            elif opcion == \"3\":\n",
    "                print(\"Cargando menú de juegos ... (Próximamente disponible)\")\n",
    "                exit()\n",
    "            elif opcion == \"4\":\n",
    "                print(\"¡Gracias por jugar! Hasta la próxima.\")\n",
    "                exit()\n",
    "            else:\n",
    "                print(\"Opción no válida. Por favor, elige 1, 2, 3 o 4.\")\n",
    "\n",
    "    def jugar(self, modo):\n",
    "        \"\"\"Es la función donde se ordenan el resto de funciones con todo lo necesario para que se ejecute el juego\n",
    "        \"\"\"\n",
    "        self.limpiar_terminal()\n",
    "        opciones, resultados = self.obtener_opciones_y_resultados(modo)\n",
    "        self.victorias_jugador = 0\n",
    "        self.victorias_maquina = 0\n",
    "\n",
    "        print(f\"¡Bienvenido a Piedra, Papel, Tijera{' , Lagarto, Spock' if modo == 'extendido' else ''}!\")\n",
    "        while self.victorias_jugador < self.rondas_para_ganar and self.victorias_maquina < self.rondas_para_ganar:\n",
    "            self.jugar_ronda(opciones, resultados)\n",
    "\n",
    "        if self.victorias_jugador == self.rondas_para_ganar:\n",
    "            print(\"\\n¡Felicidades! Has ganado el juego.\")\n",
    "        else:\n",
    "            print(\"\\nLa máquina ha ganado el juego. Mejor suerte la próxima vez.\")\n",
    "\n",
    "        return self.opciones_despues_del_juego()\n",
    "\n",
    "    def main_menu(self):\n",
    "        \"\"\"Muestra las opciones de modalidad de juego (clásica o extendida) y la opción de terminar\n",
    "        \"\"\"\n",
    "        while True:\n",
    "            print(\"Menú Principal\")\n",
    "            print(\"1. Jugar Piedra, Papel, Tijera, Lagarto, Spock\")\n",
    "            print(\"2. Jugar Piedra, Papel, Tijera clásico\")\n",
    "            print(\"3. Salir\")\n",
    "            choice = input(\"Selecciona una opción: \")\n",
    "            if choice == '1':\n",
    "                resultado = self.jugar(modo=\"extendido\")\n",
    "                if resultado == \"reiniciar\":\n",
    "                    self.jugar(modo=\"extendido\")\n",
    "            elif choice == '2':\n",
    "                resultado = self.jugar(modo=\"clasico\")\n",
    "                if resultado == \"reiniciar\":\n",
    "                    self.jugar(modo=\"clasico\")\n",
    "            elif choice == '3':\n",
    "                print(\"¡Gracias por jugar!\")\n",
    "                break\n",
    "            else:\n",
    "                print(\"Opción no válida. Intenta de nuevo.\")\n",
    "\n",
    "if __name__ == \"__main__\":\n",
    "    juego = Piedra_papel_tijera()\n",
    "    juego.main_menu()\n"
   ]
  }
 ],
 "metadata": {
  "kernelspec": {
   "display_name": "Python 3",
   "language": "python",
   "name": "python3"
  },
  "language_info": {
   "codemirror_mode": {
    "name": "ipython",
    "version": 3
   },
   "file_extension": ".py",
   "mimetype": "text/x-python",
   "name": "python",
   "nbconvert_exporter": "python",
   "pygments_lexer": "ipython3",
   "version": "3.11.9"
  }
 },
 "nbformat": 4,
 "nbformat_minor": 2
}
