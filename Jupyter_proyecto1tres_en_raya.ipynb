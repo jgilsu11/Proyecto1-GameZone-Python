{
 "cells": [
  {
   "cell_type": "markdown",
   "metadata": {},
   "source": [
    "***Tres en Raya***"
   ]
  },
  {
   "cell_type": "markdown",
   "metadata": {},
   "source": [
    "***Tablero***"
   ]
  },
  {
   "cell_type": "code",
   "execution_count": 11,
   "metadata": {},
   "outputs": [
    {
     "name": "stdout",
     "output_type": "stream",
     "text": [
      " | | \n",
      "-----\n",
      " | | \n",
      "-----\n",
      " | | \n",
      "-----\n"
     ]
    }
   ],
   "source": [
    "tablero = [[\" \" for _ in range(3)] for _ in range(3)]  #Lo que tenido que buscar y no lo termino de captar\n",
    "def imprimir_tablero():\n",
    "    \"\"\"Imprime el tablero\n",
    "    \"\"\"\n",
    "    for fila in tablero:\n",
    "        print(\"|\".join(fila))   #No termino de captar aquí que hace el .join\n",
    "        print(\"-\" * 5)\n",
    "imprimir_tablero()\n"
   ]
  },
  {
   "cell_type": "markdown",
   "metadata": {},
   "source": [
    "***Comprobar si hay ganador***"
   ]
  },
  {
   "cell_type": "code",
   "execution_count": 12,
   "metadata": {},
   "outputs": [],
   "source": [
    "def verificar_victoria(jugador):\n",
    "            \"\"\"Verifica si hay algún tres en raya en\n",
    "               filas, columnas y diagonales\n",
    "            \"\"\"\n",
    "            for i in range(3):\n",
    "                if tablero[i][0] == tablero[i][1] == tablero[i][2] == jugador:  #Comprueba las filas 1,1 1,2 1,3/ 2,1 2,2 2,3 etc\n",
    "                    return True\n",
    "                if tablero[0][i] == tablero[1][i] == tablero[2][i] == jugador:  #Comprueba las columnas 1,1 2,1 3,1/ 1,2 2,2 3,2 etc\n",
    "                    return True\n",
    "            if tablero[0][0] == tablero[1][1] == tablero[2][2] == jugador:      #Comprueba la diagonal 1,1 2,2 3,3\n",
    "                return True\n",
    "            if tablero[0][2] == tablero[1][1] == tablero[2][0] == jugador:      #Comprueba la diagonal 1,3 2,2 3,1\n",
    "                return True\n",
    "            return False\n",
    "\n"
   ]
  },
  {
   "cell_type": "markdown",
   "metadata": {},
   "source": [
    "***Si el tablero está lleno***"
   ]
  },
  {
   "cell_type": "code",
   "execution_count": 20,
   "metadata": {},
   "outputs": [],
   "source": [
    "def tablero_lleno():\n",
    "    \"\"\"Comprueba si el tablero está lleno y por ende habría empate\n",
    "    \"\"\"\n",
    "    for fila in tablero:\n",
    "        if \" \" in fila:\n",
    "            return False\n",
    "        else:             #AQUÍ NO ESTOY SEGURO DE SI EL RETURN TRUE ESTÁ BIEN COLOCADO (si debe porque funciona)\n",
    "            return True"
   ]
  },
  {
   "cell_type": "markdown",
   "metadata": {},
   "source": [
    "***Turno de juego***\n"
   ]
  },
  {
   "cell_type": "code",
   "execution_count": null,
   "metadata": {},
   "outputs": [],
   "source": [
    "def turno_jugador_humano(jugador):\n",
    "    \"\"\"Muestra al jugador que tiene que elegir fila y columna comprobando que la que elija\n",
    "       esté vacía y que haya metido un número dentro de rango\n",
    "    \"\"\"\n",
    "    while True:             #Este bucles \"infinitos\" basicamente obliga al usuario a introducir un valor válido\n",
    "                            #porque solo pueden escapar del while si llegan al break (introduciendo valores válidos en un sitio que no esté ocupado)\n",
    "        try:\n",
    "            fila = int(input(f\"Jugador {jugador}, elije fila (1-3): \")) -1      #El -1 se incluye para convertir el 1,2y 3 en 0,1 y 2 (índices de python)\n",
    "            columna = int(input(f\"Jugador {jugador}, elije columna (1-3): \")) -1\n",
    "            if tablero[fila][columna] == \" \":\n",
    "                tablero[fila][columna] == jugador\n",
    "                break\n",
    "            else:\n",
    "                print(\"Esa posición ya está ocupada, prueba con otra\")\n",
    "        except:\n",
    "            print(\"Por favor, introduce un valor válido entre 1 y 3\")\n"
   ]
  },
  {
   "cell_type": "markdown",
   "metadata": {},
   "source": [
    "***Rondas***"
   ]
  },
  {
   "cell_type": "code",
   "execution_count": 14,
   "metadata": {},
   "outputs": [],
   "source": [
    "def jugar_ronda():\n",
    "    \"\"\"Todo lo que se tiene que ejecutar en cada ronda\n",
    "    \"\"\"\n",
    "    while juego_activo:\n",
    "        imprimir_tablero()\n",
    "        jugador_actual = \"X\" if turno_jugador else \"O\"   #si turno_jugador= True devuelve X sino O\n",
    "        turno_jugador_humano(jugador_actual)\n",
    "\n",
    "        if verificar_victoria(jugador_actual):\n",
    "            imprimir_tablero()\n",
    "            ganador= \"Jugador 1\" if turno_jugador else \"Jugador 2\" #Aquí parecido, si turno_jugador= True devuelve jugador 1 sino jugador 2\n",
    "            print(f\"¡{ganador} ha ganado la partida!\")\n",
    "            juego_activo= False\n",
    "            break\n",
    "        if tablero_lleno():\n",
    "            imprimir_tablero()\n",
    "            print(\"¡Es un empate!\")\n",
    "            juego_activo= False\n",
    "        else:\n",
    "            turno_jugador= not turno_jugador    #Esto cambia de true a False y viceversa para ir cambiando de turno\n",
    "\n",
    "\n",
    "            \n",
    "        "
   ]
  },
  {
   "cell_type": "markdown",
   "metadata": {},
   "source": [
    "**Explicación de porque el if va seguido del else**"
   ]
  },
  {
   "cell_type": "code",
   "execution_count": 15,
   "metadata": {},
   "outputs": [
    {
     "name": "stdout",
     "output_type": "stream",
     "text": [
      "X\n",
      "O\n"
     ]
    }
   ],
   "source": [
    "turno_jugador = True\n",
    "jugador_actual = \"X\" if turno_jugador else \"O\"\n",
    "print(jugador_actual)  # Salida: X\n",
    "\n",
    "turno_jugador = False\n",
    "jugador_actual = \"X\" if turno_jugador else \"O\"\n",
    "print(jugador_actual)  # Salida: O\n"
   ]
  },
  {
   "cell_type": "markdown",
   "metadata": {},
   "source": [
    "***Jugar***"
   ]
  },
  {
   "cell_type": "code",
   "execution_count": 16,
   "metadata": {},
   "outputs": [],
   "source": [
    "def jugar_tres_en_raya():\n",
    "    while juego_activo:\n",
    "        juego= Tres_en_raya()\n",
    "        juego.jugar_ronda()\n",
    "\n",
    "        while True:\n",
    "            print(\"\\n¿Qué te gustaría hacer ahora?\")\n",
    "            print(\"1. Volver a jugar\")\n",
    "            print(\"2. Volver al menú de otros juegos\")\n",
    "            print(\"3. Terminar\")\n",
    "            eleccion_final= input(\"Elige una opción: \")\n",
    "\n",
    "            if eleccion_final == \"1\":\n",
    "                break         #Así se vuelve al inicio del bucle y se vuelve a jugar\n",
    "            elif eleccion_final == \"2\":\n",
    "                print(\"Cargando el menú de juegos...(próximamente)\")\n",
    "                #aquí irá la función de menú si me da tiempo a hacerlo\n",
    "                juego_activo= False\n",
    "                exit()         \n",
    "            elif eleccion_final == \"3\":\n",
    "                print(\"¡Gracias por jugar! Hasta luego.\")\n",
    "                juego_activo = False\n",
    "                exit()    \n",
    "            else:\n",
    "                print(\"Opción no válida, elige nuevamente.\")\n",
    "            \n",
    "\n",
    "    \n"
   ]
  },
  {
   "cell_type": "markdown",
   "metadata": {},
   "source": [
    "**Clase completa**"
   ]
  },
  {
   "cell_type": "code",
   "execution_count": 19,
   "metadata": {},
   "outputs": [],
   "source": [
    "class JuegoTresEnRaya:\n",
    "    def __init__(self):\n",
    "        self.juego_activo = True\n",
    "\n",
    "    \n",
    "    class TresEnRaya:                    # uf esto de tener una clase dentro de otra...\n",
    "        def __init__(self):\n",
    "            self.tablero = [[\" \" for _ in range(3)] for _ in range(3)]  #Esto crea una lista con 3 espacios en blanco (lo de dentro) y lo repite 3 veces (para hacer una matriz)\n",
    "            self.turno_jugador = True  # El jugador 1 siempre va a ser el que empiece\n",
    "            self.juego_activo = True\n",
    "\n",
    "        def imprimir_tablero(self):\n",
    "            \"\"\"Imprime el tablero\n",
    "            \"\"\"\n",
    "            for fila in self.tablero:\n",
    "                print(\"|\".join(fila))   #En una fila(lista con tres espacios) se unen los 3 espacios en uno usando como delimitador | en lugar de la ,\n",
    "                print(\"-\" * 5)\n",
    "\n",
    "        def verificar_victoria(self, jugador):\n",
    "            \"\"\"Verifica si hay algún tres en raya en\n",
    "               filas, columnas y diagonales\n",
    "            \"\"\"\n",
    "            for i in range(3):\n",
    "                if self.tablero[i][0] == self.tablero[i][1] == self.tablero[i][2] == jugador:  #Comprueba las filas 1,1 1,2 1,3/ 2,1 2,2 2,3 etc\n",
    "                    return True\n",
    "                if self.tablero[0][i] == self.tablero[1][i] == self.tablero[2][i] == jugador:  #Comprueba las columnas 1,1 2,1 3,1/ 1,2 2,2 3,2 etc\n",
    "                    return True\n",
    "            if self.tablero[0][0] == self.tablero[1][1] == self.tablero[2][2] == jugador:      #Comprueba la diagonal 1,1 2,2 3,3\n",
    "                return True\n",
    "            if self.tablero[0][2] == self.tablero[1][1] == self.tablero[2][0] == jugador:      #Comprueba la diagonal 1,3 2,2 3,1\n",
    "                return True\n",
    "            return False\n",
    "\n",
    "        def tablero_lleno(self):\n",
    "            \"\"\"Comprueba si el tablero está lleno y por ende habría empate\n",
    "            \"\"\"\n",
    "            for fila in self.tablero:\n",
    "                if \" \" in fila:\n",
    "                    return False\n",
    "            return True         #AQUÍ NO ESTOY SEGURO DE SI EL RETURN TRUE ESTÁ BIEN COLOCADO (si debe porque funciona)\n",
    "\n",
    "        def turno_jugador_humano(self, jugador):\n",
    "            \"\"\"Muestra al jugador que tiene que elegir fila y columna comprobando que la que elija\n",
    "               esté vacía y que haya metido un número dentro de rango\n",
    "            \"\"\"\n",
    "            while True:         #Este bucle \"infinitos\" basicamente obliga al usuario a introducir un valor válido\n",
    "                                #porque solo pueden escapar del while si llegan al break (introduciendo valores válidos en un sitio que no esté ocupado)\n",
    "                try:\n",
    "                    fila = int(input(f\"Jugador {jugador}, elige fila (1-3): \")) - 1   #El -1 se incluye para convertir el 1,2y 3 en 0,1 y 2 (índices de python)\n",
    "                    columna = int(input(f\"Jugador {jugador}, elige columna (1-3): \")) - 1\n",
    "                    if self.tablero[fila][columna] == \" \":\n",
    "                        self.tablero[fila][columna] = jugador\n",
    "                        break\n",
    "                    else:\n",
    "                        print(\"Esa posición ya está ocupada, elige otra.\")\n",
    "                except:\n",
    "                    print(\"Por favor, introduce valores válidos entre 1 y 3.\")\n",
    "\n",
    "        def jugar_ronda(self):\n",
    "            \"\"\"Todo lo que se tiene que ejecutar en cada ronda\n",
    "            \"\"\"\n",
    "            while self.juego_activo:\n",
    "                self.imprimir_tablero()\n",
    "                jugador_actual = \"X\" if self.turno_jugador else \"O\"    #si turno_jugador= True devuelve X sino O\n",
    "                self.turno_jugador_humano(jugador_actual)\n",
    "\n",
    "                if self.verificar_victoria(jugador_actual):\n",
    "                    self.imprimir_tablero()\n",
    "                    ganador = \"Jugador 1\" if self.turno_jugador else \"Jugador 2\"   #Aquí parecido, si turno_jugador= True devuelve jugador 1 sino jugador 2\n",
    "                    print(f\"¡{ganador} ha ganado la partida!\")\n",
    "                    self.juego_activo = False\n",
    "                    break\n",
    "\n",
    "                if self.tablero_lleno():\n",
    "                    self.imprimir_tablero()\n",
    "                    print(\"¡Es un empate!\")\n",
    "                    self.juego_activo = False\n",
    "                    break\n",
    "                else:\n",
    "                    self.turno_jugador = not self.turno_jugador  #Esto cambia de true a False y viceversa para ir cambiando de turno\n",
    "\n",
    "    def iniciar_tres_en_raya(self):\n",
    "        \"\"\"Es la función donde se ordenan el resto de funciones con todo lo necesario para que se ejecute el juego\n",
    "        \"\"\"\n",
    "        while self.juego_activo:\n",
    "            juego = self.TresEnRaya()\n",
    "            juego.jugar_ronda()\n",
    "\n",
    "            while True:\n",
    "                print(\"\\n¿Qué te gustaría hacer ahora?\")\n",
    "                print(\"1. Volver a jugar\")\n",
    "                print(\"2. Volver al menú de otros juegos\")\n",
    "                print(\"3. Terminar\")\n",
    "                eleccion_final = input(\"Elige una opción: \")\n",
    "\n",
    "                if eleccion_final == \"1\":\n",
    "                    break                  #Así se vuelve al inicio del bucle y se vuelve a jugar\n",
    "                elif eleccion_final == \"2\":\n",
    "                    print(\"Redirigiendo al menú de otros juegos... (próximamente)\")\n",
    "                    #Aquí irá la función de menú si me da tiempo a hacerlo\n",
    "                    self.juego_activo = False\n",
    "                    exit()\n",
    "                elif eleccion_final == \"3\":\n",
    "                    print(\"¡Gracias por jugar! Hasta luego.\")\n",
    "                    self.juego_activo = False\n",
    "                    exit()\n",
    "                else:\n",
    "                    print(\"Opción no válida, elige nuevamente.\")\n",
    "\n",
    "\n"
   ]
  },
  {
   "cell_type": "code",
   "execution_count": null,
   "metadata": {},
   "outputs": [],
   "source": [
    "# Ejecución del juego\n",
    "if __name__ == \"__main__\":\n",
    "    juego = JuegoTresEnRaya()\n",
    "    juego.iniciar_tres_en_raya()"
   ]
  }
 ],
 "metadata": {
  "kernelspec": {
   "display_name": "Python 3",
   "language": "python",
   "name": "python3"
  },
  "language_info": {
   "codemirror_mode": {
    "name": "ipython",
    "version": 3
   },
   "file_extension": ".py",
   "mimetype": "text/x-python",
   "name": "python",
   "nbconvert_exporter": "python",
   "pygments_lexer": "ipython3",
   "version": "3.11.9"
  }
 },
 "nbformat": 4,
 "nbformat_minor": 2
}
