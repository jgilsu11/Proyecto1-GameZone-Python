{
 "cells": [
  {
   "cell_type": "markdown",
   "metadata": {},
   "source": [
    "***Tres en Raya***"
   ]
  },
  {
   "cell_type": "markdown",
   "metadata": {},
   "source": [
    "***Tablero***"
   ]
  },
  {
   "cell_type": "code",
   "execution_count": 11,
   "metadata": {},
   "outputs": [
    {
     "name": "stdout",
     "output_type": "stream",
     "text": [
      " | | \n",
      "-----\n",
      " | | \n",
      "-----\n",
      " | | \n",
      "-----\n"
     ]
    }
   ],
   "source": [
    "tablero = [[\" \" for _ in range(3)] for _ in range(3)]  #Lo que tenido que buscar y no lo termino de captar\n",
    "def imprimir_tablero():\n",
    "    \"\"\"Imprime el tablero\n",
    "    \"\"\"\n",
    "    for fila in tablero:\n",
    "        print(\"|\".join(fila))   #No termino de captar aquí que hace el .join\n",
    "        print(\"-\" * 5)\n",
    "imprimir_tablero()\n"
   ]
  },
  {
   "cell_type": "markdown",
   "metadata": {},
   "source": [
    "***Comprobar si hay ganador***"
   ]
  },
  {
   "cell_type": "code",
   "execution_count": 12,
   "metadata": {},
   "outputs": [],
   "source": [
    "def verificar_victoria(jugador):\n",
    "            \"\"\"Verifica si hay algún tres en raya en\n",
    "               filas, columnas y diagonales\n",
    "            \"\"\"\n",
    "            for i in range(3):\n",
    "                if tablero[i][0] == tablero[i][1] == tablero[i][2] == jugador:  #Comprueba las filas 1,1 1,2 1,3/ 2,1 2,2 2,3 etc\n",
    "                    return True\n",
    "                if tablero[0][i] == tablero[1][i] == tablero[2][i] == jugador:  #Comprueba las columnas 1,1 2,1 3,1/ 1,2 2,2 3,2 etc\n",
    "                    return True\n",
    "            if tablero[0][0] == tablero[1][1] == tablero[2][2] == jugador:      #Comprueba la diagonal 1,1 2,2 3,3\n",
    "                return True\n",
    "            if tablero[0][2] == tablero[1][1] == tablero[2][0] == jugador:      #Comprueba la diagonal 1,3 2,2 3,1\n",
    "                return True\n",
    "            return False\n",
    "\n"
   ]
  },
  {
   "cell_type": "markdown",
   "metadata": {},
   "source": [
    "***Si el tablero está lleno***"
   ]
  },
  {
   "cell_type": "code",
   "execution_count": null,
   "metadata": {},
   "outputs": [],
   "source": [
    "def tablero_lleno():\n",
    "    \"\"\"Comprueba si el tablero está lleno y por ende habría empate\n",
    "    \"\"\"\n",
    "    for fila in tablero:\n",
    "        if \" \" in fila:\n",
    "            return False\n",
    "        else:             #AQUÍ NO ESTOY SEGURO DE SI EL RETURN TRUE ESTÁ BIEN COLOCADO\n",
    "            return True"
   ]
  },
  {
   "cell_type": "markdown",
   "metadata": {},
   "source": [
    "***Turno de juego***\n"
   ]
  },
  {
   "cell_type": "code",
   "execution_count": null,
   "metadata": {},
   "outputs": [],
   "source": [
    "def turno_jugador(jugador):\n",
    "    \"\"\"Muestra al jugador que tiene que elegir fila y columna comprobando que la que elija\n",
    "       esté vacía y que haya metido un número dentro de rango\n",
    "    \"\"\"\n",
    "    while True:             #Este bucles \"infinitos\" basicamente obliga al usuario a introducir un valor válido\n",
    "                            #porque solo pueden escapar del while si llegan al break (introduciendo valores válidos en un sitio que no esté ocupado)\n",
    "        try:\n",
    "            fila = int(input(f\"Jugador {jugador}, elije fila (1-3): \")) -1      #El -1 se incluye para convertir el 1,2y 3 en 0,1 y 2 (índices de python)\n",
    "            columna = int(input(f\"Jugador {jugador}, elije columna (1-3): \")) -1\n",
    "            if tablero[fila][columna] == \" \":\n",
    "                tablero[fila][columna] == jugador\n",
    "                break\n",
    "            else:\n",
    "                print(\"Esa posición ya está ocupada, prueba con otra\")\n",
    "        except:\n",
    "            print(\"Por favor, introduce un valor válido entre 1 y 3\")\n"
   ]
  },
  {
   "cell_type": "markdown",
   "metadata": {},
   "source": []
  },
  {
   "cell_type": "code",
   "execution_count": null,
   "metadata": {},
   "outputs": [],
   "source": []
  }
 ],
 "metadata": {
  "kernelspec": {
   "display_name": "Python 3",
   "language": "python",
   "name": "python3"
  },
  "language_info": {
   "codemirror_mode": {
    "name": "ipython",
    "version": 3
   },
   "file_extension": ".py",
   "mimetype": "text/x-python",
   "name": "python",
   "nbconvert_exporter": "python",
   "pygments_lexer": "ipython3",
   "version": "3.11.9"
  }
 },
 "nbformat": 4,
 "nbformat_minor": 2
}
